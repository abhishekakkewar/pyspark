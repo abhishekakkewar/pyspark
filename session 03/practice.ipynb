{
 "cells": [
  {
   "cell_type": "code",
   "execution_count": 1,
   "id": "05041719",
   "metadata": {},
   "outputs": [
    {
     "name": "stdout",
     "output_type": "stream",
     "text": [
      "hello   <class 'str'>\n",
      "world   <class 'str'>\n",
      "my   <class 'str'>\n",
      "name   <class 'str'>\n",
      "is   <class 'str'>\n",
      "abhishek   <class 'str'>\n",
      "welcome   <class 'str'>\n",
      "to   <class 'str'>\n",
      "pyspark   <class 'str'>\n",
      "python   <class 'str'>\n"
     ]
    }
   ],
   "source": [
    "import re\n",
    "from cgitb import reset\n",
    "import findspark\n",
    "findspark.init()\n",
    "\n",
    "from pyspark import SparkConf, SparkContext\n",
    "\n",
    "\n",
    "\n",
    "confobj = SparkConf().setMaster(\"local[2]\").setAppName(\"wordapp\")\n",
    "\n",
    "sc = SparkContext(conf=confobj)\n",
    "\n",
    "# \"hello how are you\"\n",
    "\n",
    "\n",
    "def splitword(line):\n",
    "    return re.compile(r'\\W', re.UNICODE).split(line.lower())\n",
    "\n",
    "\n",
    "lines = sc.textFile(\"content.txt\")\n",
    "\n",
    "words = lines.flatMap(splitword)\n",
    "wordsmap = words.map(lambda w : (w,1))\n",
    "\n",
    "wordsunique = wordsmap.reduceByKey(lambda c1,c2: c1 + c2)\n",
    "\n",
    "# wordsmap2 = wordsunique.map(lambda w: (w[1],w[0]))\n",
    "\n",
    "# wordsfinal = wordsmap2.sortByKey(False)\n",
    "\n",
    "result = words.collect()\n",
    "\n",
    "for r in result:\n",
    "    print(r, \" \", type(r))\n"
   ]
  },
  {
   "cell_type": "code",
   "execution_count": null,
   "id": "9d4ec134",
   "metadata": {},
   "outputs": [],
   "source": []
  }
 ],
 "metadata": {
  "kernelspec": {
   "display_name": "base",
   "language": "python",
   "name": "python3"
  },
  "language_info": {
   "codemirror_mode": {
    "name": "ipython",
    "version": 3
   },
   "file_extension": ".py",
   "mimetype": "text/x-python",
   "name": "python",
   "nbconvert_exporter": "python",
   "pygments_lexer": "ipython3",
   "version": "3.9.12 (main, Apr  4 2022, 05:22:27) [MSC v.1916 64 bit (AMD64)]"
  },
  "vscode": {
   "interpreter": {
    "hash": "e1a3504eade4cc9220cf11ce2c65af624044138c5ed9c90e8dd86a26ee17ed79"
   }
  }
 },
 "nbformat": 4,
 "nbformat_minor": 5
}
